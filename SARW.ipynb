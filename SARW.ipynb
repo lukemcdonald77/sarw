{
 "cells": [
  {
   "cell_type": "code",
   "execution_count": 1,
   "metadata": {},
   "outputs": [],
   "source": [
    "import random\n",
    "import seaborn as sns\n",
    "import matplotlib.pyplot as plt\n",
    "import numpy as np\n",
    "\n",
    "\n",
    "class move_analysis:\n",
    "    def __init__(self, current_position, visited_positions, size):\n",
    "        self.four_directions={\n",
    "            \"up\":       {\"x\":current_position['x'],\n",
    "                        \"y\":current_position['y']+1\n",
    "            },\n",
    "            \"down\":     {\"x\":current_position['x'],\n",
    "                        \"y\":current_position['y']-1\n",
    "            },\n",
    "            \"left\":     {\"x\":current_position['x']-1,\n",
    "                        \"y\":current_position['y']\n",
    "            },\n",
    "            \"right\":    {\"x\":current_position['x']+1,\n",
    "                        \"y\":current_position['y']\n",
    "            }\n",
    "        }\n",
    "        self.visited_positions=visited_positions\n",
    "        self.size=size\n",
    "        \n",
    "    def checkWall(self):\n",
    "        no_wall ={}\n",
    "        hit_wall ={}\n",
    "        for move in self.four_directions:\n",
    "            if 0 <= int(self.four_directions[move][\"x\"]) < self.size and 0 <= int(self.four_directions[move][\"y\"]) < self.size:\n",
    "                no_wall[move] = self.four_directions[move]\n",
    "            else:\n",
    "                hit_wall[move] = self.four_directions[move]\n",
    "\n",
    "        moves = {\n",
    "                \"no_wall\":no_wall,\n",
    "                \"hit_wall\": hit_wall\n",
    "                }\n",
    "        return moves\n",
    "\n",
    "  \n",
    "    def move_already_made(self):\n",
    "            legal ={}\n",
    "            illegal ={}\n",
    "            for move in self.four_directions:\n",
    "                x = self.four_directions[move][\"x\"]\n",
    "                y = self.four_directions[move][\"y\"]\n",
    "                if (x, y) in self.visited_positions:\n",
    "                    illegal[move] = self.four_directions[move]\n",
    "                else:\n",
    "                    legal[move] = self.four_directions[move]\n",
    "            moves = {\n",
    "                \"legal\":legal,\n",
    "                \"illegal\": illegal\n",
    "            }\n",
    "            return moves\n",
    "\n",
    "def saw(simulations, size):\n",
    "    successes = 0\n",
    "    failures = 0\n",
    "    totalcount = 0\n",
    "    position_visits = {}\n",
    "\n",
    "    for i in range(simulations):\n",
    "        visited_positions = set()\n",
    "        position = {\"x\":50, \"y\":50}\n",
    "        visited_positions.add((position[\"x\"], position[\"y\"]))\n",
    "        if (position[\"x\"], position[\"y\"]) not in position_visits:\n",
    "            position_visits[(position[\"x\"], position[\"y\"])] = 1\n",
    "        else:\n",
    "            position_visits[(position[\"x\"], position[\"y\"])] += 1\n",
    "\n",
    "        _continue = True\n",
    "        count = 0\n",
    "        while _continue:\n",
    "            count += 1\n",
    "            legal_moves = move_analysis(position, visited_positions,size).move_already_made()['legal']\n",
    "            legal_and_inbounds = move_analysis(position, visited_positions,size).checkWall()[\"no_wall\"]\n",
    "            possible_moves = {move: legal_moves[move] for move in legal_moves if move in legal_and_inbounds}\n",
    "\n",
    "            if len(possible_moves) > 0:\n",
    "                chosen_move = random.choice(list(possible_moves.keys()))\n",
    "                position = possible_moves[chosen_move]\n",
    "                visited_positions.add((position[\"x\"], position[\"y\"]))\n",
    "                if (position[\"x\"], position[\"y\"]) not in position_visits:\n",
    "                    position_visits[(position[\"x\"], position[\"y\"])] = 1\n",
    "                else:\n",
    "                    position_visits[(position[\"x\"], position[\"y\"])] += 1\n",
    "            else:\n",
    "                _continue = False\n",
    "                failures += 1\n",
    "                totalcount += count\n",
    "    print(\"Failures: \"+ str(failures)+\" | Total Steps: \"+ str(totalcount)+\" | Average Steps: \"+ str(totalcount/simulations))\n",
    "    return position_visits, simulations, size\n"
   ]
  },
  {
   "cell_type": "code",
   "execution_count": 3,
   "metadata": {
    "scrolled": false
   },
   "outputs": [
    {
     "name": "stdout",
     "output_type": "stream",
     "text": [
      "Failures: 100 | Total Steps: 6950 | Average Steps: 69.5\n"
     ]
    },
    {
     "data": {
      "text/plain": [
       "<AxesSubplot:>"
      ]
     },
     "execution_count": 3,
     "metadata": {},
     "output_type": "execute_result"
    },
    {
     "data": {
      "image/png": "[encoded data removed]",
      "text/plain": [
       "<Figure size 432x288 with 2 Axes>"
      ]
     },
     "metadata": {
      "needs_background": "light"
     },
     "output_type": "display_data"
    }
   ],
   "source": [
    "position_visits,simulations, size = saw(100, 100)\n",
    "visits_2d = [[0 for _ in range(size)] for _ in range(size)]\n",
    "for (x, y), visits in position_visits.items():\n",
    "    visits_2d[x][y] = visits\n",
    "visits_array = np.array(visits_2d)\n",
    "\n",
    "sns.heatmap(visits_array)"
   ]
  },
  {
   "cell_type": "code",
   "execution_count": null,
   "metadata": {},
   "outputs": [],
   "source": []
  },
  {
   "cell_type": "code",
   "execution_count": null,
   "metadata": {},
   "outputs": [],
   "source": []
  }
 ],
 "metadata": {
  "kernelspec": {
   "display_name": "Python 3 (ipykernel)",
   "language": "python",
   "name": "python3"
  },
  "language_info": {
   "codemirror_mode": {
    "name": "ipython",
    "version": 3
   },
   "file_extension": ".py",
   "mimetype": "text/x-python",
   "name": "python",
   "nbconvert_exporter": "python",
   "pygments_lexer": "ipython3",
   "version": "3.9.12"
  }
 },
 "nbformat": 4,
 "nbformat_minor": 2
}
